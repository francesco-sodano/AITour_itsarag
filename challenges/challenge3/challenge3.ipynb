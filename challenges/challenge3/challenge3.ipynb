{
 "cells": [
  {
   "cell_type": "markdown",
   "metadata": {},
   "source": [
    "# Challenge 3: Start coding\n",
    "\n",
    "## Introduction\n",
    "\n",
    "In this challenge you will interact with OpenAI and Phi-4 APIs using Python.\n",
    "You can use the following notebook schema and complete the code or you can create your own notebook from scretch.\n",
    "\n",
    "the Steps to complete the challenge are:\n",
    "- Play with the vanilla models\n",
    "- Bring your own data\n",
    "\n",
    "Be sure you have your python environment activated \n",
    "\n",
    "\n"
   ]
  },
  {
   "cell_type": "markdown",
   "metadata": {},
   "source": [
    "## Step 1: Play with the vanilla models\n",
    "\n",
    "in this step you need to connect to the Azure OpenAI and Phi-4 APIs using code.\n",
    "\n",
    "### Azure OpenAI API\n",
    "\n",
    "Let's start with Azure OpenAI API.\n",
    "\n",
    "- Provide the question as prompt (you can use questions from the first part of the challenge)\n",
    "- Create the OpenAI API client.\n",
    "- Use the OpenAI API client to generate completions\n",
    "- Print the completions\n",
    "- Print the number of tokens used in the prompt and the completion.\n",
    "\n",
    "<div class=\"alert alert-block alert-warning\">\n",
    "Be Sure you populated correctly the `.env` file as requested in the previous challenge. \n",
    "We are using <a href=\"https://pypi.org/project/python-dotenv/\">python-dotenv</a> to manager our environment variables. It will also make things easier when deploying the application in Azure. \n",
    "</div>"
   ]
  },
  {
   "cell_type": "code",
   "execution_count": null,
   "metadata": {},
   "outputs": [],
   "source": [
    "import os, dotenv\n",
    "dotenv.load_dotenv(override=True)\n",
    "\n",
    "# Setup environment\n",
    "AZURE_OPENAI_API_KEY = os.getenv(\"AZURE_OPENAI_API_KEY\")\n",
    "AZURE_OPENAI_ENDPOINT = os.getenv(\"AZURE_OPENAI_ENDPOINT\")\n",
    "AZURE_OPENAI_API_VERSION = os.getenv(\"AZURE_OPENAI_API_VERSION\")\n",
    "AZURE_OPENAI_MODEL = os.getenv(\"AZURE_OPENAI_MODEL\")\n",
    "AZURE_OPENAI_DEPLOYMENT_NAME = os.getenv(\"AZURE_OPENAI_DEPLOYMENT_NAME\")\n",
    "\n",
    "# Libraries\n",
    "from openai import AzureOpenAI"
   ]
  },
  {
   "cell_type": "code",
   "execution_count": null,
   "metadata": {},
   "outputs": [],
   "source": [
    "# Define thequestions list (if you are using your own dataset you need to change this list)\n",
    "QUESTIONS = [\n",
    "  \"Can you create a table with the total revenue for NVIDIA and MICROSOFT in year 2023?\"\n",
    "  ]\n",
    "\n",
    "# Define the System prompt to be ussed for vanilla and RAG pipelines.\n",
    "system_prompt = \"\"\" You are a financial assistant tasked with answering questions related to the financial results of major technology companies listed on NASDAQ, \\n\n",
    "specifically MICROSOFT (MSFT) and NVIDIA (NVDA). Be concise and accurate in your responses\"\"\"\n",
    "\n",
    "# Add the prompt addendum ONLY for the RAG pipeline.\n",
    "# This will instruct the model to answer only based on the provided context.\n",
    "system_prompt_addendum = \"\"\" \\n If you don't find the answer in the provided context, just say `I don't know.`\"\"\""
   ]
  },
  {
   "cell_type": "code",
   "execution_count": null,
   "metadata": {},
   "outputs": [],
   "source": [
    "# Create an Azure OpenAI client\n",
    "\n",
    "# Use the client to generate completions (client.chat.completions.create), cycle through the questions list and print the response and the number of tokens in the response (response.usage.prompt_tokens/response.usage.completion_tokens)\n",
    "# For the message you can use the system role with the content you prepared for Azure AI Foundry. \n"
   ]
  },
  {
   "cell_type": "markdown",
   "metadata": {},
   "source": [
    "### Phi-4 API\n",
    "\n",
    "Now let's do the same using the Phi-4 API.\n",
    "\n",
    "the steps are similar to the Azure OpenAI API but we will use Azure Inference SDK.\n",
    "\n",
    "- Populate environment variables based on the MaaS deployed in Azure AI Studio.\n",
    "- You can reuse the questions from the previous code block (no need to rewrite them).\n",
    "- Create the API client.\n",
    "- Use the the API client to generate completions\n",
    "- Print the completions\n",
    "- Print the number of tokens used in the prompt and the completion."
   ]
  },
  {
   "cell_type": "code",
   "execution_count": null,
   "metadata": {},
   "outputs": [],
   "source": [
    "import os, dotenv\n",
    "dotenv.load_dotenv()\n",
    "\n",
    "# Setup environment\n",
    "PHI_API_KEY = os.getenv(\"PHI_API_KEY\")\n",
    "PHI_ENDPOINT = os.getenv(\"PHI_ENDPOINT\")\n",
    "PHI_DEPLOYMENT_NAME = os.getenv(\"PHI_DEPLOYMENT_NAME\")\n",
    "PHI_API_VERSION = os.getenv(\"PHI_API_VERSION\")\n",
    "\n",
    "# Libraries\n",
    "from azure.ai.inference import ChatCompletionsClient\n",
    "from azure.ai.inference.models import SystemMessage, UserMessage\n",
    "from azure.core.credentials import AzureKeyCredential"
   ]
  },
  {
   "cell_type": "code",
   "execution_count": null,
   "metadata": {},
   "outputs": [],
   "source": [
    "# Use Azure AI Inference client library to connect with Phi-4 model\n",
    "\n",
    "# Use the client to generate completions (be sure to pass the correct model name)\n"
   ]
  },
  {
   "cell_type": "markdown",
   "metadata": {},
   "source": [
    "## Step 2: Bring your own data\n",
    "\n",
    "After the test of the vanilla models, now it's time to bring your data into the picture.\n",
    "\n",
    "\n",
    "We will use Langchain framework and Azure AI Search for this.\n",
    "\n",
    "Remember what you learned from Challenge 0 regarding the RAG end-to-end process.\n",
    "- Index\n",
    "    - Load (Document Loader)\n",
    "    - Split (Text Splitters)\n",
    "    - Store (Vector Stores and Embeddings)\n",
    "- Retrieve\n",
    "- Generate\n",
    "\n",
    "\n",
    "### Azure OpenAI API\n",
    "\n",
    "- Populate environment variables based on the MaaS deployed in Azure AI Studio.\n",
    "- Create a Search Vector Store. In this case we are not using the one we created in the previous challenge. **You need to create a new one and call it \"itsarag-ch3-001\"**.\n",
    "- Create the Azure Open AI embedding and the Azure Chat OpenAI objects.\n",
    "- Index : Load documents from the data source (you can use AzureBlobStorageContainerLoader)\n",
    "- Index : Split the documents in chucks (you can use the RecursiveCharacterTextSplitter)\n",
    "- Index : Store the documents in the vector store (you can use the add_documents method)\n",
    "- Retrieve: Create a retriver using the Vector Store (SimilaritySearch and top_k)\n",
    "- Generate: Use the langchain chain to generate completions (get context from retriever and format the context in single line with the question -> add the proper prompt -> send to LLM -> get structured output)\n"
   ]
  },
  {
   "cell_type": "code",
   "execution_count": null,
   "metadata": {},
   "outputs": [],
   "source": [
    "\n",
    "# ENVIRONMENT VARIABLES\n",
    "# OpenAI\n",
    "AZURE_OPENAI_EMBEDDING = os.getenv(\"AZURE_OPENAI_EMBEDDING\")\n",
    "AZURE_OPENAI_MODEL_VERSION = os.getenv(\"AZURE_OPENAI_MODEL_VERSION\")\n",
    "# Azure Search\n",
    "AZURE_SEARCH_ENDPOINT = os.getenv(\"AZURE_SEARCH_ENDPOINT\")\n",
    "AZURE_SEARCH_API_KEY = os.getenv(\"AZURE_SEARCH_API_KEY\")\n",
    "# Azure Blob Storage\n",
    "AZURE_STORAGE_CONNECTION_STRING = os.getenv(\"AZURE_STORAGE_CONNECTION_STRING\")\n",
    "AZURE_STORAGE_CONTAINER = os.getenv(\"AZURE_STORAGE_CONTAINER\")\n",
    "# Import Libraries\n",
    "from langchain_openai import AzureOpenAIEmbeddings, AzureChatOpenAI\n",
    "from langchain_community.vectorstores.azuresearch import AzureSearch\n",
    "from langchain_community.document_loaders import AzureBlobStorageContainerLoader\n",
    "from langchain.text_splitter import RecursiveCharacterTextSplitter\n",
    "from langchain_core.runnables import RunnablePassthrough\n",
    "from langchain_core.output_parsers import StrOutputParser\n",
    "from langchain_core.prompts import ChatPromptTemplate"
   ]
  },
  {
   "cell_type": "code",
   "execution_count": null,
   "metadata": {},
   "outputs": [],
   "source": [
    "# Create the required objects\n",
    "\n",
    "# Azure OpenAI Embeddings (AzureOpenAIEmbeddings instance)\n",
    "\n",
    "# Azure Search Vector Store (AzureSearch) \n",
    "# NOTE: Remember to create the new index in Azure Search called \"itsarag-ch3-001\"\n",
    "\n",
    "# Define the LLM model to use (AzureChatOpenAI instance)\n"
   ]
  },
  {
   "cell_type": "code",
   "execution_count": null,
   "metadata": {},
   "outputs": [],
   "source": [
    "# Index: Load the documents\n",
    "# Load the document from Azure Blob Storage (AzureBlobStorageContainerLoader)\n",
    "# Note: It can take up to 5 minutes.\n"
   ]
  },
  {
   "cell_type": "code",
   "execution_count": null,
   "metadata": {},
   "outputs": [],
   "source": [
    "# Index: Split (RecursiveCharacterTextSplitter - 1000 characters - 200 overlap)\n"
   ]
  },
  {
   "cell_type": "code",
   "execution_count": null,
   "metadata": {},
   "outputs": [],
   "source": [
    "# Index: Store (add_documents)\n",
    "# Note: It can take up to 8 minutes.\n"
   ]
  },
  {
   "cell_type": "code",
   "execution_count": null,
   "metadata": {},
   "outputs": [],
   "source": [
    "# Retrieve (hybrid - first 30 results). Be careful to NOT put the \"k\" parameters in search_kwargs but as standalone parameter.\n"
   ]
  },
  {
   "cell_type": "code",
   "execution_count": null,
   "metadata": {},
   "outputs": [],
   "source": [
    "# Generate\n",
    "\n",
    "# Take all the result documents from the retriever and format them into a single string suitable for input into the language model.\n",
    "def format_docs(docs):\n",
    "    return \"\\n\\n\".join(doc.page_content for doc in docs)\n",
    "# Use the ChatPromptTemplate to define the prompt that will be sent to the model (Human) remember to include the question and the context.\n",
    "# you should have the system prompt and add the context (the retrieved documents) at the end, then the human prompt with the question.\n",
    "\n",
    "# Define the Chain to get the answer: the chain should include:\n",
    "# 1. the retriever that get the documents and perform the format_doc function with prompt previously defined.\n",
    "# 2. the prompt generated\n",
    "# 3. send it to the llm model\n",
    "# 4. parse the output using the StrOutputParser()\n"
   ]
  },
  {
   "cell_type": "code",
   "execution_count": null,
   "metadata": {},
   "outputs": [],
   "source": [
    "# Test the solution\n",
    "for QUESTION in QUESTIONS:\n",
    "    print(f\"QUESTION: {QUESTION}\")\n",
    "    print(rag_chain.invoke(QUESTION))\n",
    "    print(\"--------------------------------------------------\")"
   ]
  }
 ],
 "metadata": {
  "kernelspec": {
   "display_name": "Python 3",
   "language": "python",
   "name": "python3"
  },
  "language_info": {
   "codemirror_mode": {
    "name": "ipython",
    "version": 3
   },
   "file_extension": ".py",
   "mimetype": "text/x-python",
   "name": "python",
   "nbconvert_exporter": "python",
   "pygments_lexer": "ipython3",
   "version": "3.12.8"
  }
 },
 "nbformat": 4,
 "nbformat_minor": 2
}
